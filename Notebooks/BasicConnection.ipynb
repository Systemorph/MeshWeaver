{
    "cells": [
        {
            "cell_type": "code",
            "execution_count": 1,
            "metadata": {
                "dotnet_interactive": {
                    "language": "csharp"
                },
                "polyglot_notebook": {
                    "kernelName": "csharp"
                },
                "vscode": {
                    "languageId": "polyglot-notebook"
                }
            },
            "outputs": [
                {
                    "data": {
                        "text/html": [
                            "<div><div><strong>Restore sources</strong><ul><li><span> file://c:/dev/MeshWeaver/nupkg</span></li></ul></div><div></div><div></div></div>"
                        ]
                    },
                    "metadata": {},
                    "output_type": "display_data"
                }
            ],
            "source": [
                "#i \"nuget: file://c:/dev/MeshWeaver/nupkg\""
            ]
        },
        {
            "cell_type": "code",
            "execution_count": 2,
            "metadata": {
                "dotnet_interactive": {
                    "language": "csharp"
                },
                "polyglot_notebook": {
                    "kernelName": "csharp"
                },
                "vscode": {
                    "languageId": "polyglot-notebook"
                }
            },
            "outputs": [
                {
                    "data": {
                        "text/html": [
                            "<div><div><strong>Restore sources</strong><ul><li><span> file://c:/dev/MeshWeaver/nupkg</span></li></ul></div><div></div><div><strong>Installed Packages</strong><ul><li><span>MeshWeaver.Connection.Notebook, 1.0.0</span></li></ul></div></div>"
                        ]
                    },
                    "metadata": {},
                    "output_type": "display_data"
                },
                {
                    "data": {
                        "text/plain": [
                            "Loading extension script from `C:\\Users\\rolan\\.nuget\\packages\\meshweaver.connection.notebook\\1.0.0\\interactive-extensions\\dotnet\\extension.dib`"
                        ]
                    },
                    "metadata": {},
                    "output_type": "display_data"
                },
                {
                    "name": "stdout",
                    "output_type": "stream",
                    "text": [
                        "Usage:\n",
                        "#!connect mesh --url https://<mesh-weaver-host>/kernel --kernel-name <kernel-name>\r\n"
                    ]
                }
            ],
            "source": [
                "#r \"nuget: MeshWeaver.Connection.Notebook\""
            ]
        },
        {
            "cell_type": "code",
            "execution_count": 4,
            "metadata": {
                "dotnet_interactive": {
                    "language": "csharp"
                },
                "polyglot_notebook": {
                    "kernelName": "csharp"
                },
                "vscode": {
                    "languageId": "polyglot-notebook"
                }
            },
            "outputs": [
                {
                    "data": {
                        "text/plain": [
                            "Kernel added: #!mesh"
                        ]
                    },
                    "metadata": {},
                    "output_type": "display_data"
                }
            ],
            "source": [
                "#!connect mesh --url \"https://localhost:65260/kernel\" --kernel-name \"mesh\""
            ]
        },
        {
            "cell_type": "code",
            "execution_count": 5,
            "metadata": {
                "dotnet_interactive": {
                    "language": "csharp"
                },
                "polyglot_notebook": {
                    "kernelName": "mesh"
                },
                "vscode": {
                    "languageId": "polyglot-notebook"
                }
            },
            "outputs": [
                {
                    "data": {
                        "text/html": [
                            "<details open=\"open\" class=\"dni-treeview\"><summary><span class=\"dni-code-hint\"><code>kernel/YDYFKMl150K0WMfeBwKgqA</code></span></summary><div><table><thead><tr></tr></thead><tbody><tr><td>Id</td><td><div class=\"dni-plaintext\"><pre>YDYFKMl150K0WMfeBwKgqA</pre></div></td></tr></tbody></table></div></details><style>\r\n",
                            ".dni-code-hint {\r\n",
                            "    font-style: italic;\r\n",
                            "    overflow: hidden;\r\n",
                            "    white-space: nowrap;\r\n",
                            "}\r\n",
                            ".dni-treeview {\r\n",
                            "    white-space: nowrap;\r\n",
                            "}\r\n",
                            ".dni-treeview td {\r\n",
                            "    vertical-align: top;\r\n",
                            "    text-align: start;\r\n",
                            "}\r\n",
                            "details.dni-treeview {\r\n",
                            "    padding-left: 1em;\r\n",
                            "}\r\n",
                            "table td {\r\n",
                            "    text-align: start;\r\n",
                            "}\r\n",
                            "table tr { \r\n",
                            "    vertical-align: top; \r\n",
                            "    margin: 0em 0px;\r\n",
                            "}\r\n",
                            "table tr td pre \r\n",
                            "{ \r\n",
                            "    vertical-align: top !important; \r\n",
                            "    margin: 0em 0px !important;\r\n",
                            "} \r\n",
                            "table th {\r\n",
                            "    text-align: start;\r\n",
                            "}\r\n",
                            "</style>"
                        ]
                    },
                    "metadata": {},
                    "output_type": "display_data"
                }
            ],
            "source": [
                "using MeshWeaver.Layout;\n",
                "using MeshWeaver.Mesh;\n",
                "using MeshWeaver.Data;\n",
                "using Microsoft.DotNet.Interactive.Formatting;\n",
                "using System.Reactive.Linq;\n",
                "using static MeshWeaver.Layout.Controls;\n",
                "Mesh.Address"
            ]
        },
        {
            "cell_type": "code",
            "execution_count": 6,
            "metadata": {
                "dotnet_interactive": {
                    "language": "mesh"
                },
                "polyglot_notebook": {
                    "kernelName": "mesh"
                },
                "vscode": {
                    "languageId": "polyglot-notebook"
                }
            },
            "outputs": [
                {
                    "data": {
                        "text/html": [
                            "<iframe src='https://localhost:65260/area/kernel/YDYFKMl150K0WMfeBwKgqA/IDH2xkfr_Uqw28EZ2S1rFQ' width='100%' style=\"height: 500px;\"></iframe>"
                        ]
                    },
                    "metadata": {},
                    "output_type": "display_data"
                }
            ],
            "source": [
                "LayoutArea(new ApplicationAddress(\"Northwind\"), \"ProductOverview\")\n",
                ".WithStyle(style => style.WithHeight(\"500px\"))//.ToDisplayString(\"text/html\")"
            ]
        },
        {
            "cell_type": "code",
            "execution_count": 23,
            "metadata": {
                "dotnet_interactive": {
                    "language": "mesh"
                },
                "polyglot_notebook": {
                    "kernelName": "mesh"
                },
                "vscode": {
                    "languageId": "polyglot-notebook"
                }
            },
            "outputs": [
                {
                    "data": {
                        "text/html": [
                            "<iframe src='https://localhost:65260/area/kernel/YDYFKMl150K0WMfeBwKgqA/s20jYT2-HUyvqvnBxLAHGQ' width='100%' style=\"height: 600px;\"></iframe>"
                        ]
                    },
                    "metadata": {},
                    "output_type": "display_data"
                }
            ],
            "source": [
                "Stack\n",
                ".WithView(LayoutArea(new ApplicationAddress(\"Northwind\"), \"ProductOverview\"))\n",
                ".WithView(LayoutArea(new ApplicationAddress(\"Northwind\"), \"ProductSummary\"))\n",
                ".WithOrientation(Orientation.Horizontal)\n",
                ".WithStyle(style => style.WithHeight(\"600px\"))"
            ]
        },
        {
            "cell_type": "code",
            "execution_count": 24,
            "metadata": {
                "dotnet_interactive": {
                    "language": "mesh"
                },
                "polyglot_notebook": {
                    "kernelName": "mesh"
                },
                "vscode": {
                    "languageId": "polyglot-notebook"
                }
            },
            "outputs": [],
            "source": [
                "public record Calculator(double Value1 , int Value2 );"
            ]
        },
        {
            "cell_type": "code",
            "execution_count": 28,
            "metadata": {
                "dotnet_interactive": {
                    "language": "mesh"
                },
                "polyglot_notebook": {
                    "kernelName": "mesh"
                },
                "vscode": {
                    "languageId": "polyglot-notebook"
                }
            },
            "outputs": [
                {
                    "data": {
                        "text/html": [
                            "<iframe src='https://localhost:65260/area/kernel/YDYFKMl150K0WMfeBwKgqA/VrDKWRH800ayG7a1bPvcUQ' width='100%' style=\"\"></iframe>"
                        ]
                    },
                    "metadata": {},
                    "output_type": "display_data"
                }
            ],
            "source": [
                "Stack\n",
                "    .WithView(Markdown(\"## Calculator\"))\n",
                "    .WithView(Template.Bind(new Calculator(1,1), \"Calculator\", calculator => \n",
                "        Stack\n",
                "        .WithView(Number(calculator.Value1, \"Double\") )\n",
                "        .WithView(Number(calculator.Value2, \"Double\") )\n",
                "        ).WithOrientation(Orientation.Horizontal) \n",
                ")\n",
                ".WithView((host, ctx) => host.GetDataStream<Calculator>(\"Calculator\")\n",
                ".Select(calculator => Markdown($\"**sum**: {calculator.Value1 + calculator.Value2} \"))\n",
                ")\n"
            ]
        },
        {
            "cell_type": "code",
            "execution_count": null,
            "metadata": {
                "vscode": {
                    "languageId": "polyglot-notebook"
                }
            },
            "outputs": [],
            "source": []
        }
    ],
    "metadata": {
        "dotnet_interactive": {
            "language": "csharp"
        },
        "kernelspec": {
            "display_name": ".NET (C#)",
            "language": "C#",
            "name": ".net-csharp"
        },
        "language_info": {
            "name": "csharp"
        },
        "polyglot_notebook": {
            "kernelInfo": {
                "defaultKernelName": "csharp",
                "items": [
                    {
                        "aliases": [],
                        "name": "csharp"
                    },
                    {
                        "aliases": [],
                        "name": "mesh"
                    }
                ]
            }
        }
    },
    "nbformat": 4,
    "nbformat_minor": 2
}
