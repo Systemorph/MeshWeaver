{
    "cells": [
        {
            "cell_type": "code",
            "execution_count": 3,
            "metadata": {
                "dotnet_interactive": {
                    "language": "csharp"
                },
                "polyglot_notebook": {
                    "kernelName": "csharp"
                },
                "vscode": {
                    "languageId": "polyglot-notebook"
                }
            },
            "outputs": [
                {
                    "data": {
                        "text/html": [
                            "<div><div><strong>Restore sources</strong><ul><li><span> file://c:/dev/MeshWeaver/nupkg</span></li></ul></div><div></div><div></div></div>"
                        ]
                    },
                    "metadata": {},
                    "output_type": "display_data"
                }
            ],
            "source": [
                "#i \"nuget: file://c:/dev/MeshWeaver/nupkg\""
            ]
        },
        {
            "cell_type": "code",
            "execution_count": 4,
            "metadata": {
                "dotnet_interactive": {
                    "language": "csharp"
                },
                "polyglot_notebook": {
                    "kernelName": "csharp"
                },
                "vscode": {
                    "languageId": "polyglot-notebook"
                }
            },
            "outputs": [
                {
                    "data": {
                        "text/html": [
                            "<div><div><strong>Restore sources</strong><ul><li><span> file://c:/dev/MeshWeaver/nupkg</span></li></ul></div><div></div><div><strong>Installed Packages</strong><ul><li><span>MeshWeaver.Connection.Notebook, 1.0.0</span></li></ul></div></div>"
                        ]
                    },
                    "metadata": {},
                    "output_type": "display_data"
                },
                {
                    "data": {
                        "text/plain": [
                            "Loading extension script from `C:\\Users\\rolan\\.nuget\\packages\\meshweaver.connection.notebook\\1.0.0\\interactive-extensions\\dotnet\\extension.dib`"
                        ]
                    },
                    "metadata": {},
                    "output_type": "display_data"
                },
                {
                    "name": "stdout",
                    "output_type": "stream",
                    "text": [
                        "Usage:\n",
                        "#!connect mesh --url https://<mesh-weaver-host>/kernel --kernel-name <kernel-name>\r\n"
                    ]
                }
            ],
            "source": [
                "#r \"nuget: MeshWeaver.Connection.Notebook\""
            ]
        },
        {
            "cell_type": "code",
            "execution_count": 5,
            "metadata": {
                "dotnet_interactive": {
                    "language": "csharp"
                },
                "polyglot_notebook": {
                    "kernelName": "csharp"
                },
                "vscode": {
                    "languageId": "polyglot-notebook"
                }
            },
            "outputs": [
                {
                    "data": {
                        "text/plain": [
                            "Kernel added: #!mesh"
                        ]
                    },
                    "metadata": {},
                    "output_type": "display_data"
                }
            ],
            "source": [
                "#!connect mesh --url \"https://localhost:65260/kernel\" --kernel-name \"mesh\""
            ]
        },
        {
            "cell_type": "code",
            "execution_count": 6,
            "metadata": {
                "dotnet_interactive": {
                    "language": "csharp"
                },
                "polyglot_notebook": {
                    "kernelName": "mesh"
                },
                "vscode": {
                    "languageId": "polyglot-notebook"
                }
            },
            "outputs": [
                {
                    "data": {
                        "text/html": [
                            "<details open=\"open\" class=\"dni-treeview\"><summary><span class=\"dni-code-hint\"><code>kernel/pVpiycHqS0Gc_WVD82mtsQ</code></span></summary><div><table><thead><tr></tr></thead><tbody><tr><td>Id</td><td><div class=\"dni-plaintext\"><pre>pVpiycHqS0Gc_WVD82mtsQ</pre></div></td></tr></tbody></table></div></details><style>\r\n",
                            ".dni-code-hint {\r\n",
                            "    font-style: italic;\r\n",
                            "    overflow: hidden;\r\n",
                            "    white-space: nowrap;\r\n",
                            "}\r\n",
                            ".dni-treeview {\r\n",
                            "    white-space: nowrap;\r\n",
                            "}\r\n",
                            ".dni-treeview td {\r\n",
                            "    vertical-align: top;\r\n",
                            "    text-align: start;\r\n",
                            "}\r\n",
                            "details.dni-treeview {\r\n",
                            "    padding-left: 1em;\r\n",
                            "}\r\n",
                            "table td {\r\n",
                            "    text-align: start;\r\n",
                            "}\r\n",
                            "table tr { \r\n",
                            "    vertical-align: top; \r\n",
                            "    margin: 0em 0px;\r\n",
                            "}\r\n",
                            "table tr td pre \r\n",
                            "{ \r\n",
                            "    vertical-align: top !important; \r\n",
                            "    margin: 0em 0px !important;\r\n",
                            "} \r\n",
                            "table th {\r\n",
                            "    text-align: start;\r\n",
                            "}\r\n",
                            "</style>"
                        ]
                    },
                    "metadata": {},
                    "output_type": "display_data"
                }
            ],
            "source": [
                "using MeshWeaver.Layout;\n",
                "using MeshWeaver.Mesh;\n",
                "using MeshWeaver.Data;\n",
                "using Microsoft.DotNet.Interactive.Formatting;\n",
                "Mesh.Address"
            ]
        },
        {
            "cell_type": "code",
            "execution_count": 7,
            "metadata": {
                "dotnet_interactive": {
                    "language": "mesh"
                },
                "polyglot_notebook": {
                    "kernelName": "mesh"
                },
                "vscode": {
                    "languageId": "polyglot-notebook"
                }
            },
            "outputs": [],
            "source": [
                "var result = await Mesh.GetLayoutAreaAsync(new ApplicationAddress(\"Northwind\"), \"ProductSummary\");"
            ]
        },
        {
            "cell_type": "code",
            "execution_count": 8,
            "metadata": {
                "dotnet_interactive": {
                    "language": "mesh"
                },
                "polyglot_notebook": {
                    "kernelName": "mesh"
                },
                "vscode": {
                    "languageId": "polyglot-notebook"
                }
            },
            "outputs": [
                {
                    "data": {
                        "text/plain": [
                            "<iframe src='https://localhost:65260/area/kernel/pVpiycHqS0Gc_WVD82mtsQ/FH4uhfZAHE2QXj2HBIgeLQ'></iframe>"
                        ]
                    },
                    "metadata": {},
                    "output_type": "display_data"
                }
            ],
            "source": [
                "result.ToDisplayString(\"text/html\")"
            ]
        },
        {
            "cell_type": "code",
            "execution_count": 11,
            "metadata": {
                "dotnet_interactive": {
                    "language": "mesh"
                },
                "polyglot_notebook": {
                    "kernelName": "mesh"
                },
                "vscode": {
                    "languageId": "polyglot-notebook"
                }
            },
            "outputs": [
                {
                    "data": {
                        "text/plain": [
                            "LayoutStackControl { Id = , Style = , Tooltip = , IsReadonly = , Label = , Skins = System.Collections.Immutable.ImmutableList`1[MeshWeaver.Layout.Skin], Class = , IsClickable = False, DataContext = , ModuleName = MeshWeaver.Layout, ApiVersion = 1.0.0, Areas = System.Collections.Immutable.ImmutableList`1[MeshWeaver.Layout.NamedAreaControl], Skin = LayoutStackSkin { Class = , Style = , HorizontalAlignment = , VerticalAlignment = , HorizontalGap = , VerticalGap = , Orientation = Vertical, Wrap = , Width = , Height =  } }"
                        ]
                    },
                    "metadata": {},
                    "output_type": "display_data"
                }
            ],
            "source": [
                "using Microsoft.DotNet.Interactive.Formatting;"
            ]
        },
        {
            "cell_type": "code",
            "execution_count": 12,
            "metadata": {
                "vscode": {
                    "languageId": "polyglot-notebook"
                }
            },
            "outputs": [
                {
                    "ename": "Error",
                    "evalue": "(1,1): error CS0103: The name 'result' does not exist in the current context",
                    "output_type": "error",
                    "traceback": [
                        "(1,1): error CS0103: The name 'result' does not exist in the current context"
                    ]
                }
            ],
            "source": [
                "result"
            ]
        },
        {
            "cell_type": "code",
            "execution_count": 13,
            "metadata": {
                "vscode": {
                    "languageId": "polyglot-notebook"
                }
            },
            "outputs": [
                {
                    "ename": "Error",
                    "evalue": "System.InvalidOperationException: Kernel Microsoft.DotNet.Interactive.Connection.ProxyKernel: mesh (kernel://pid-20100/mesh -> kernel://mesh/mesh) does not support command RequestValue\r\n   at Microsoft.DotNet.Interactive.ValueSharing.ShareDirectiveCommand.HandleAsync(ShareDirectiveCommand command, KernelInvocationContext context) in D:\\a\\_work\\1\\s\\src\\Microsoft.DotNet.Interactive\\ValueSharing\\ShareDirectiveCommand.cs:line 35\r\n   at Microsoft.DotNet.Interactive.Kernel.HandleAsync(KernelCommand command, KernelInvocationContext context) in D:\\a\\_work\\1\\s\\src\\Microsoft.DotNet.Interactive\\Kernel.cs:line 365\r\n   at Microsoft.DotNet.Interactive.KernelCommandPipeline.<BuildPipeline>b__6_0(KernelCommand command, KernelInvocationContext context, KernelPipelineContinuation _) in D:\\a\\_work\\1\\s\\src\\Microsoft.DotNet.Interactive\\KernelCommandPipeline.cs:line 60\r\n   at Microsoft.DotNet.Interactive.KernelCommandPipeline.SendAsync(KernelCommand command, KernelInvocationContext context) in D:\\a\\_work\\1\\s\\src\\Microsoft.DotNet.Interactive\\KernelCommandPipeline.cs:line 41",
                    "output_type": "error",
                    "traceback": [
                        "System.InvalidOperationException: Kernel Microsoft.DotNet.Interactive.Connection.ProxyKernel: mesh (kernel://pid-20100/mesh -> kernel://mesh/mesh) does not support command RequestValue\r\n",
                        "   at Microsoft.DotNet.Interactive.ValueSharing.ShareDirectiveCommand.HandleAsync(ShareDirectiveCommand command, KernelInvocationContext context) in D:\\a\\_work\\1\\s\\src\\Microsoft.DotNet.Interactive\\ValueSharing\\ShareDirectiveCommand.cs:line 35\r\n",
                        "   at Microsoft.DotNet.Interactive.Kernel.HandleAsync(KernelCommand command, KernelInvocationContext context) in D:\\a\\_work\\1\\s\\src\\Microsoft.DotNet.Interactive\\Kernel.cs:line 365\r\n",
                        "   at Microsoft.DotNet.Interactive.KernelCommandPipeline.<BuildPipeline>b__6_0(KernelCommand command, KernelInvocationContext context, KernelPipelineContinuation _) in D:\\a\\_work\\1\\s\\src\\Microsoft.DotNet.Interactive\\KernelCommandPipeline.cs:line 60\r\n",
                        "   at Microsoft.DotNet.Interactive.KernelCommandPipeline.SendAsync(KernelCommand command, KernelInvocationContext context) in D:\\a\\_work\\1\\s\\src\\Microsoft.DotNet.Interactive\\KernelCommandPipeline.cs:line 41"
                    ]
                }
            ],
            "source": [
                "#!share --from mesh result"
            ]
        },
        {
            "cell_type": "code",
            "execution_count": null,
            "metadata": {
                "vscode": {
                    "languageId": "polyglot-notebook"
                }
            },
            "outputs": [],
            "source": []
        }
    ],
    "metadata": {
        "dotnet_interactive": {
            "language": "csharp"
        },
        "kernelspec": {
            "display_name": ".NET (C#)",
            "language": "C#",
            "name": ".net-csharp"
        },
        "language_info": {
            "name": "csharp"
        },
        "polyglot_notebook": {
            "kernelInfo": {
                "defaultKernelName": "csharp",
                "items": [
                    {
                        "aliases": [],
                        "name": "csharp"
                    },
                    {
                        "aliases": [],
                        "name": "mesh"
                    }
                ]
            }
        }
    },
    "nbformat": 4,
    "nbformat_minor": 2
}
