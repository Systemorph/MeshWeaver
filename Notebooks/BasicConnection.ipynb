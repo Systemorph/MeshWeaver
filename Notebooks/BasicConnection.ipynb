{
    "cells": [
        {
            "cell_type": "code",
            "execution_count": 1,
            "metadata": {
                "dotnet_interactive": {
                    "language": "csharp"
                },
                "polyglot_notebook": {
                    "kernelName": "csharp"
                },
                "vscode": {
                    "languageId": "polyglot-notebook"
                }
            },
            "outputs": [
                {
                    "data": {
                        "text/html": [
                            "<div><div><strong>Restore sources</strong><ul><li><span> file://c:/dev/MeshWeaver/nupkg</span></li></ul></div><div></div><div></div></div>"
                        ]
                    },
                    "metadata": {},
                    "output_type": "display_data"
                }
            ],
            "source": [
                "#i \"nuget: file://c:/dev/MeshWeaver/nupkg\""
            ]
        },
        {
            "cell_type": "code",
            "execution_count": 2,
            "metadata": {
                "dotnet_interactive": {
                    "language": "csharp"
                },
                "polyglot_notebook": {
                    "kernelName": "csharp"
                },
                "vscode": {
                    "languageId": "polyglot-notebook"
                }
            },
            "outputs": [
                {
                    "data": {
                        "text/html": [
                            "<div><div><strong>Restore sources</strong><ul><li><span> file://c:/dev/MeshWeaver/nupkg</span></li></ul></div><div></div><div><strong>Installed Packages</strong><ul><li><span>MeshWeaver.Connection.Notebook, 1.0.0</span></li></ul></div></div>"
                        ]
                    },
                    "metadata": {},
                    "output_type": "display_data"
                },
                {
                    "data": {
                        "text/plain": [
                            "Loading extension script from `C:\\Users\\rolan\\.nuget\\packages\\meshweaver.connection.notebook\\1.0.0\\interactive-extensions\\dotnet\\extension.dib`"
                        ]
                    },
                    "metadata": {},
                    "output_type": "display_data"
                },
                {
                    "name": "stdout",
                    "output_type": "stream",
                    "text": [
                        "Usage:\n",
                        "#!connect mesh --url https://<mesh-weaver-host>/kernel --kernel-name <kernel-name>\r\n"
                    ]
                }
            ],
            "source": [
                "#r \"nuget: MeshWeaver.Connection.Notebook\""
            ]
        },
        {
            "cell_type": "code",
            "execution_count": 4,
            "metadata": {
                "dotnet_interactive": {
                    "language": "csharp"
                },
                "polyglot_notebook": {
                    "kernelName": "csharp"
                },
                "vscode": {
                    "languageId": "polyglot-notebook"
                }
            },
            "outputs": [
                {
                    "data": {
                        "text/plain": [
                            "Kernel added: #!mesh"
                        ]
                    },
                    "metadata": {},
                    "output_type": "display_data"
                }
            ],
            "source": [
                "#!connect mesh --url \"https://localhost:65260/kernel\" --kernel-name \"mesh\""
            ]
        },
        {
            "cell_type": "code",
            "execution_count": 5,
            "metadata": {
                "dotnet_interactive": {
                    "language": "csharp"
                },
                "polyglot_notebook": {
                    "kernelName": "mesh"
                },
                "vscode": {
                    "languageId": "polyglot-notebook"
                }
            },
            "outputs": [
                {
                    "data": {
                        "text/html": [
                            "<details open=\"open\" class=\"dni-treeview\"><summary><span class=\"dni-code-hint\"><code>kernel/rdyxrm353UimskCjxB8ZuA</code></span></summary><div><table><thead><tr></tr></thead><tbody><tr><td>Id</td><td><div class=\"dni-plaintext\"><pre>rdyxrm353UimskCjxB8ZuA</pre></div></td></tr></tbody></table></div></details><style>\r\n",
                            ".dni-code-hint {\r\n",
                            "    font-style: italic;\r\n",
                            "    overflow: hidden;\r\n",
                            "    white-space: nowrap;\r\n",
                            "}\r\n",
                            ".dni-treeview {\r\n",
                            "    white-space: nowrap;\r\n",
                            "}\r\n",
                            ".dni-treeview td {\r\n",
                            "    vertical-align: top;\r\n",
                            "    text-align: start;\r\n",
                            "}\r\n",
                            "details.dni-treeview {\r\n",
                            "    padding-left: 1em;\r\n",
                            "}\r\n",
                            "table td {\r\n",
                            "    text-align: start;\r\n",
                            "}\r\n",
                            "table tr { \r\n",
                            "    vertical-align: top; \r\n",
                            "    margin: 0em 0px;\r\n",
                            "}\r\n",
                            "table tr td pre \r\n",
                            "{ \r\n",
                            "    vertical-align: top !important; \r\n",
                            "    margin: 0em 0px !important;\r\n",
                            "} \r\n",
                            "table th {\r\n",
                            "    text-align: start;\r\n",
                            "}\r\n",
                            "</style>"
                        ]
                    },
                    "metadata": {},
                    "output_type": "display_data"
                }
            ],
            "source": [
                "using MeshWeaver.Layout;\n",
                "using MeshWeaver.Mesh;\n",
                "using MeshWeaver.Data;\n",
                "using Microsoft.DotNet.Interactive.Formatting;\n",
                "using System.Reactive.Linq;\n",
                "using static MeshWeaver.Layout.Controls;\n",
                "Mesh.Address"
            ]
        },
        {
            "cell_type": "code",
            "execution_count": 6,
            "metadata": {
                "dotnet_interactive": {
                    "language": "mesh"
                },
                "polyglot_notebook": {
                    "kernelName": "mesh"
                },
                "vscode": {
                    "languageId": "polyglot-notebook"
                }
            },
            "outputs": [
                {
                    "data": {
                        "text/html": [
                            "<iframe src='https://localhost:65260/area/kernel/rdyxrm353UimskCjxB8ZuA/czU46hXQek2Ye9-rsY8htg' width='100%' style=\"height: 500px;\"></iframe>"
                        ]
                    },
                    "metadata": {},
                    "output_type": "display_data"
                }
            ],
            "source": [
                "LayoutArea(new ApplicationAddress(\"Northwind\"), \"ProductOverview\")\n",
                ".WithStyle(style => style.WithHeight(\"500px\"))\n",
                "//.ToDisplayString(\"text/html\")"
            ]
        },
        {
            "cell_type": "code",
            "execution_count": 18,
            "metadata": {
                "dotnet_interactive": {
                    "language": "mesh"
                },
                "polyglot_notebook": {
                    "kernelName": "mesh"
                },
                "vscode": {
                    "languageId": "polyglot-notebook"
                }
            },
            "outputs": [],
            "source": [
                "public record Calculator(double Value1 , int Value2 ){\n",
                "    public double Sum {get;init;}  = Value1 + Value2;\n",
                "}"
            ]
        },
        {
            "cell_type": "code",
            "execution_count": 24,
            "metadata": {
                "dotnet_interactive": {
                    "language": "mesh"
                },
                "polyglot_notebook": {
                    "kernelName": "mesh"
                },
                "vscode": {
                    "languageId": "polyglot-notebook"
                }
            },
            "outputs": [
                {
                    "ename": "Error",
                    "evalue": "System.InvalidOperationException: No coercion operator is defined between types 'MeshWeaver.Data.JsonPointerReference' and 'System.Double'.\r\n   at System.Linq.Expressions.Expression.GetUserDefinedCoercionOrThrow(ExpressionType coercionType, Expression expression, Type convertToType)\r\n   at MeshWeaver.Layout.DataBinding.TemplateBuilder.TemplateBuilderVisitor.VisitUnary(UnaryExpression node) in C:\\dev\\MeshWeaver\\src\\MeshWeaver.Layout\\DataBinding\\TemplateBuilder.cs:line 142\r\n   at System.Linq.Expressions.ExpressionVisitor.VisitBinary(BinaryExpression node)\r\n   at MeshWeaver.Layout.DataBinding.TemplateBuilder.TemplateBuilderVisitor.VisitUnary(UnaryExpression node) in C:\\dev\\MeshWeaver\\src\\MeshWeaver.Layout\\DataBinding\\TemplateBuilder.cs:line 139\r\n   at System.Linq.Enumerable.IListSelectIterator`2.ToArray()\r\n   at System.Linq.Enumerable.ToArray[TSource](IEnumerable`1 source)\r\n   at MeshWeaver.Layout.DataBinding.TemplateBuilder.TemplateBuilderVisitor.VisitMethodCall(MethodCallExpression node) in C:\\dev\\MeshWeaver\\src\\MeshWeaver.Layout\\DataBinding\\TemplateBuilder.cs:line 85\r\n   at System.Linq.Enumerable.IListSelectIterator`2.ToArray()\r\n   at System.Linq.Enumerable.ToArray[TSource](IEnumerable`1 source)\r\n   at MeshWeaver.Layout.DataBinding.TemplateBuilder.TemplateBuilderVisitor.VisitMethodCall(MethodCallExpression node) in C:\\dev\\MeshWeaver\\src\\MeshWeaver.Layout\\DataBinding\\TemplateBuilder.cs:line 85\r\n   at System.Linq.Enumerable.IListSelectIterator`2.ToArray()\r\n   at System.Linq.Enumerable.ToArray[TSource](IEnumerable`1 source)\r\n   at MeshWeaver.Layout.DataBinding.TemplateBuilder.TemplateBuilderVisitor.VisitMethodCall(MethodCallExpression node) in C:\\dev\\MeshWeaver\\src\\MeshWeaver.Layout\\DataBinding\\TemplateBuilder.cs:line 85\r\n   at MeshWeaver.Layout.DataBinding.TemplateBuilder.Build[T,TView](Expression`1 layout, String rootName, IReadOnlyCollection`1& types) in C:\\dev\\MeshWeaver\\src\\MeshWeaver.Layout\\DataBinding\\TemplateBuilder.cs:line 25\r\n   at MeshWeaver.Layout.Template.GetTemplateControl[T,TView](String id, Expression`1 dataTemplate) in C:\\dev\\MeshWeaver\\src\\MeshWeaver.Layout\\Template.cs:line 160\r\n   at MeshWeaver.Layout.Template.BindObject[T,TView](Object data, String id, Expression`1 dataTemplate) in C:\\dev\\MeshWeaver\\src\\MeshWeaver.Layout\\Template.cs:line 150\r\n   at MeshWeaver.Layout.Template.Bind[T,TView](T data, String id, Expression`1 dataTemplate) in C:\\dev\\MeshWeaver\\src\\MeshWeaver.Layout\\Template.cs:line 20\r\n   at Submission#17.<<Initialize>>d__0.MoveNext()\r\n--- End of stack trace from previous location ---\r\n   at Microsoft.CodeAnalysis.Scripting.ScriptExecutionState.RunSubmissionsAsync[TResult](ImmutableArray`1 precedingExecutors, Func`2 currentExecutor, StrongBox`1 exceptionHolderOpt, Func`2 catchExceptionOpt, CancellationToken cancellationToken)",
                    "output_type": "error",
                    "traceback": [
                        "System.InvalidOperationException: No coercion operator is defined between types 'MeshWeaver.Data.JsonPointerReference' and 'System.Double'.\r\n",
                        "   at System.Linq.Expressions.Expression.GetUserDefinedCoercionOrThrow(ExpressionType coercionType, Expression expression, Type convertToType)\r\n",
                        "   at MeshWeaver.Layout.DataBinding.TemplateBuilder.TemplateBuilderVisitor.VisitUnary(UnaryExpression node) in C:\\dev\\MeshWeaver\\src\\MeshWeaver.Layout\\DataBinding\\TemplateBuilder.cs:line 142\r\n",
                        "   at System.Linq.Expressions.ExpressionVisitor.VisitBinary(BinaryExpression node)\r\n",
                        "   at MeshWeaver.Layout.DataBinding.TemplateBuilder.TemplateBuilderVisitor.VisitUnary(UnaryExpression node) in C:\\dev\\MeshWeaver\\src\\MeshWeaver.Layout\\DataBinding\\TemplateBuilder.cs:line 139\r\n",
                        "   at System.Linq.Enumerable.IListSelectIterator`2.ToArray()\r\n",
                        "   at System.Linq.Enumerable.ToArray[TSource](IEnumerable`1 source)\r\n",
                        "   at MeshWeaver.Layout.DataBinding.TemplateBuilder.TemplateBuilderVisitor.VisitMethodCall(MethodCallExpression node) in C:\\dev\\MeshWeaver\\src\\MeshWeaver.Layout\\DataBinding\\TemplateBuilder.cs:line 85\r\n",
                        "   at System.Linq.Enumerable.IListSelectIterator`2.ToArray()\r\n",
                        "   at System.Linq.Enumerable.ToArray[TSource](IEnumerable`1 source)\r\n",
                        "   at MeshWeaver.Layout.DataBinding.TemplateBuilder.TemplateBuilderVisitor.VisitMethodCall(MethodCallExpression node) in C:\\dev\\MeshWeaver\\src\\MeshWeaver.Layout\\DataBinding\\TemplateBuilder.cs:line 85\r\n",
                        "   at System.Linq.Enumerable.IListSelectIterator`2.ToArray()\r\n",
                        "   at System.Linq.Enumerable.ToArray[TSource](IEnumerable`1 source)\r\n",
                        "   at MeshWeaver.Layout.DataBinding.TemplateBuilder.TemplateBuilderVisitor.VisitMethodCall(MethodCallExpression node) in C:\\dev\\MeshWeaver\\src\\MeshWeaver.Layout\\DataBinding\\TemplateBuilder.cs:line 85\r\n",
                        "   at MeshWeaver.Layout.DataBinding.TemplateBuilder.Build[T,TView](Expression`1 layout, String rootName, IReadOnlyCollection`1& types) in C:\\dev\\MeshWeaver\\src\\MeshWeaver.Layout\\DataBinding\\TemplateBuilder.cs:line 25\r\n",
                        "   at MeshWeaver.Layout.Template.GetTemplateControl[T,TView](String id, Expression`1 dataTemplate) in C:\\dev\\MeshWeaver\\src\\MeshWeaver.Layout\\Template.cs:line 160\r\n",
                        "   at MeshWeaver.Layout.Template.BindObject[T,TView](Object data, String id, Expression`1 dataTemplate) in C:\\dev\\MeshWeaver\\src\\MeshWeaver.Layout\\Template.cs:line 150\r\n",
                        "   at MeshWeaver.Layout.Template.Bind[T,TView](T data, String id, Expression`1 dataTemplate) in C:\\dev\\MeshWeaver\\src\\MeshWeaver.Layout\\Template.cs:line 20\r\n",
                        "   at Submission#17.<<Initialize>>d__0.MoveNext()\r\n",
                        "--- End of stack trace from previous location ---\r\n",
                        "   at Microsoft.CodeAnalysis.Scripting.ScriptExecutionState.RunSubmissionsAsync[TResult](ImmutableArray`1 precedingExecutors, Func`2 currentExecutor, StrongBox`1 exceptionHolderOpt, Func`2 catchExceptionOpt, CancellationToken cancellationToken)"
                    ]
                }
            ],
            "source": [
                "var calculator = \n",
                "Stack.WithView(\n",
                "\n",
                "Template.Bind(new Calculator(1,1), \"Calculator\", calculator => \n",
                "    Stack\n",
                "        .WithView(Number(calculator.Value1, \"Double\") )\n",
                "        .WithView(Number(calculator.Value2, \"Double\") )\n",
                "    ).WithOrientation(Orientation.Horizontal); \n",
                ")\n",
                ".WithView((host, ctx) => host.GetDataStream<Calculator>(\"Calculator\").Select(calculator => new Markdown($\"**sum**: {calculator.Sum}\")))\n"
            ]
        },
        {
            "cell_type": "code",
            "execution_count": 23,
            "metadata": {
                "dotnet_interactive": {
                    "language": "mesh"
                },
                "polyglot_notebook": {
                    "kernelName": "mesh"
                },
                "vscode": {
                    "languageId": "polyglot-notebook"
                }
            },
            "outputs": [
                {
                    "data": {
                        "text/html": [
                            "<iframe src='https://localhost:65260/area/kernel/rdyxrm353UimskCjxB8ZuA/gsUTTta0N0a25RUGBZarQw' width='100%' style=\"\"></iframe>"
                        ]
                    },
                    "metadata": {},
                    "output_type": "display_data"
                }
            ],
            "source": [
                "calculator"
            ]
        },
        {
            "cell_type": "code",
            "execution_count": 6,
            "metadata": {
                "dotnet_interactive": {
                    "language": "mesh"
                },
                "polyglot_notebook": {
                    "kernelName": "mesh"
                },
                "vscode": {
                    "languageId": "polyglot-notebook"
                }
            },
            "outputs": [
                {
                    "data": {
                        "text/plain": [
                            "<iframe src='https://localhost:65260/area/app/Northwind/ProductSummary' width=\"100%\"></iframe>"
                        ]
                    },
                    "metadata": {},
                    "output_type": "display_data"
                }
            ],
            "source": [
                "result.ToDisplayString(\"text/html\")"
            ]
        },
        {
            "cell_type": "code",
            "execution_count": 6,
            "metadata": {
                "dotnet_interactive": {
                    "language": "mesh"
                },
                "polyglot_notebook": {
                    "kernelName": "mesh"
                },
                "vscode": {
                    "languageId": "polyglot-notebook"
                }
            },
            "outputs": [
                {
                    "data": {
                        "text/html": [
                            "<details open=\"open\" class=\"dni-treeview\"><summary><span class=\"dni-code-hint\"><code>app/Northwind</code></span></summary><div><table><thead><tr></tr></thead><tbody><tr><td>Name</td><td><div class=\"dni-plaintext\"><pre>Northwind</pre></div></td></tr></tbody></table></div></details><style>\r\n",
                            ".dni-code-hint {\r\n",
                            "    font-style: italic;\r\n",
                            "    overflow: hidden;\r\n",
                            "    white-space: nowrap;\r\n",
                            "}\r\n",
                            ".dni-treeview {\r\n",
                            "    white-space: nowrap;\r\n",
                            "}\r\n",
                            ".dni-treeview td {\r\n",
                            "    vertical-align: top;\r\n",
                            "    text-align: start;\r\n",
                            "}\r\n",
                            "details.dni-treeview {\r\n",
                            "    padding-left: 1em;\r\n",
                            "}\r\n",
                            "table td {\r\n",
                            "    text-align: start;\r\n",
                            "}\r\n",
                            "table tr { \r\n",
                            "    vertical-align: top; \r\n",
                            "    margin: 0em 0px;\r\n",
                            "}\r\n",
                            "table tr td pre \r\n",
                            "{ \r\n",
                            "    vertical-align: top !important; \r\n",
                            "    margin: 0em 0px !important;\r\n",
                            "} \r\n",
                            "table th {\r\n",
                            "    text-align: start;\r\n",
                            "}\r\n",
                            "</style>"
                        ]
                    },
                    "metadata": {},
                    "output_type": "display_data"
                }
            ],
            "source": [
                "new ApplicationAddress(\"Northwind\")"
            ]
        },
        {
            "cell_type": "code",
            "execution_count": 11,
            "metadata": {
                "dotnet_interactive": {
                    "language": "mesh"
                },
                "polyglot_notebook": {
                    "kernelName": "mesh"
                },
                "vscode": {
                    "languageId": "polyglot-notebook"
                }
            },
            "outputs": [
                {
                    "data": {
                        "text/plain": [
                            "LayoutStackControl { Id = , Style = , Tooltip = , IsReadonly = , Label = , Skins = System.Collections.Immutable.ImmutableList`1[MeshWeaver.Layout.Skin], Class = , IsClickable = False, DataContext = , ModuleName = MeshWeaver.Layout, ApiVersion = 1.0.0, Areas = System.Collections.Immutable.ImmutableList`1[MeshWeaver.Layout.NamedAreaControl], Skin = LayoutStackSkin { Class = , Style = , HorizontalAlignment = , VerticalAlignment = , HorizontalGap = , VerticalGap = , Orientation = Vertical, Wrap = , Width = , Height =  } }"
                        ]
                    },
                    "metadata": {},
                    "output_type": "display_data"
                }
            ],
            "source": [
                "using Microsoft.DotNet.Interactive.Formatting;"
            ]
        },
        {
            "cell_type": "code",
            "execution_count": 12,
            "metadata": {
                "dotnet_interactive": {
                    "language": "csharp"
                },
                "polyglot_notebook": {
                    "kernelName": "csharp"
                },
                "vscode": {
                    "languageId": "polyglot-notebook"
                }
            },
            "outputs": [
                {
                    "ename": "Error",
                    "evalue": "(1,1): error CS0103: The name 'result' does not exist in the current context",
                    "output_type": "error",
                    "traceback": [
                        "(1,1): error CS0103: The name 'result' does not exist in the current context"
                    ]
                }
            ],
            "source": [
                "result"
            ]
        },
        {
            "cell_type": "code",
            "execution_count": 13,
            "metadata": {
                "dotnet_interactive": {
                    "language": "csharp"
                },
                "polyglot_notebook": {
                    "kernelName": "csharp"
                },
                "vscode": {
                    "languageId": "polyglot-notebook"
                }
            },
            "outputs": [
                {
                    "ename": "Error",
                    "evalue": "System.InvalidOperationException: Kernel Microsoft.DotNet.Interactive.Connection.ProxyKernel: mesh (kernel://pid-20100/mesh -> kernel://mesh/mesh) does not support command RequestValue\r\n   at Microsoft.DotNet.Interactive.ValueSharing.ShareDirectiveCommand.HandleAsync(ShareDirectiveCommand command, KernelInvocationContext context) in D:\\a\\_work\\1\\s\\src\\Microsoft.DotNet.Interactive\\ValueSharing\\ShareDirectiveCommand.cs:line 35\r\n   at Microsoft.DotNet.Interactive.Kernel.HandleAsync(KernelCommand command, KernelInvocationContext context) in D:\\a\\_work\\1\\s\\src\\Microsoft.DotNet.Interactive\\Kernel.cs:line 365\r\n   at Microsoft.DotNet.Interactive.KernelCommandPipeline.<BuildPipeline>b__6_0(KernelCommand command, KernelInvocationContext context, KernelPipelineContinuation _) in D:\\a\\_work\\1\\s\\src\\Microsoft.DotNet.Interactive\\KernelCommandPipeline.cs:line 60\r\n   at Microsoft.DotNet.Interactive.KernelCommandPipeline.SendAsync(KernelCommand command, KernelInvocationContext context) in D:\\a\\_work\\1\\s\\src\\Microsoft.DotNet.Interactive\\KernelCommandPipeline.cs:line 41",
                    "output_type": "error",
                    "traceback": [
                        "System.InvalidOperationException: Kernel Microsoft.DotNet.Interactive.Connection.ProxyKernel: mesh (kernel://pid-20100/mesh -> kernel://mesh/mesh) does not support command RequestValue\r\n",
                        "   at Microsoft.DotNet.Interactive.ValueSharing.ShareDirectiveCommand.HandleAsync(ShareDirectiveCommand command, KernelInvocationContext context) in D:\\a\\_work\\1\\s\\src\\Microsoft.DotNet.Interactive\\ValueSharing\\ShareDirectiveCommand.cs:line 35\r\n",
                        "   at Microsoft.DotNet.Interactive.Kernel.HandleAsync(KernelCommand command, KernelInvocationContext context) in D:\\a\\_work\\1\\s\\src\\Microsoft.DotNet.Interactive\\Kernel.cs:line 365\r\n",
                        "   at Microsoft.DotNet.Interactive.KernelCommandPipeline.<BuildPipeline>b__6_0(KernelCommand command, KernelInvocationContext context, KernelPipelineContinuation _) in D:\\a\\_work\\1\\s\\src\\Microsoft.DotNet.Interactive\\KernelCommandPipeline.cs:line 60\r\n",
                        "   at Microsoft.DotNet.Interactive.KernelCommandPipeline.SendAsync(KernelCommand command, KernelInvocationContext context) in D:\\a\\_work\\1\\s\\src\\Microsoft.DotNet.Interactive\\KernelCommandPipeline.cs:line 41"
                    ]
                }
            ],
            "source": [
                "#!share --from mesh result"
            ]
        },
        {
            "cell_type": "code",
            "execution_count": null,
            "metadata": {
                "dotnet_interactive": {
                    "language": "csharp"
                },
                "polyglot_notebook": {
                    "kernelName": "csharp"
                },
                "vscode": {
                    "languageId": "polyglot-notebook"
                }
            },
            "outputs": [],
            "source": []
        }
    ],
    "metadata": {
        "dotnet_interactive": {
            "language": "csharp"
        },
        "kernelspec": {
            "display_name": ".NET (C#)",
            "language": "C#",
            "name": ".net-csharp"
        },
        "language_info": {
            "name": "csharp"
        },
        "polyglot_notebook": {
            "kernelInfo": {
                "defaultKernelName": "csharp",
                "items": [
                    {
                        "aliases": [],
                        "name": "csharp"
                    },
                    {
                        "aliases": [],
                        "name": "mesh"
                    }
                ]
            }
        }
    },
    "nbformat": 4,
    "nbformat_minor": 2
}
