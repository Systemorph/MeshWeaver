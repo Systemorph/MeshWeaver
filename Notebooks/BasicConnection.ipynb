{
    "cells": [
        {
            "cell_type": "code",
            "execution_count": null,
            "metadata": {
                "dotnet_interactive": {
                    "language": "csharp"
                },
                "polyglot_notebook": {
                    "kernelName": "csharp"
                }
            },
            "outputs": [],
            "source": [
                "#i \"nuget: file://c:/dev/MeshWeaver/nupkg\""
            ]
        },
        {
            "cell_type": "code",
            "execution_count": null,
            "metadata": {
                "dotnet_interactive": {
                    "language": "csharp"
                },
                "polyglot_notebook": {
                    "kernelName": "csharp"
                }
            },
            "outputs": [],
            "source": [
                "#r \"nuget: System.Text.Json,8.0.5\"\n",
                "#r \"nuget: Microsoft.Extensions.Logging.Console,8.0.0\"\n",
                "#r \"nuget: Microsoft.Extensions.Options,8.0.2\"\n",
                "#r \"nuget: Microsoft.AspNetCore.SignalR.Client,8.0.0\"\n",
                "#r \"nuget:Microsoft.Extensions.DependencyInjection.Abstractions,8.0.0\"\n",
                "#r \"nuget:Microsoft.Extensions.Logging.Abstractions,8.0.0\"\n",
                "#r \"nuget:Microsoft.Extensions.Logging,8.0.0\"\n",
                "#r \"nuget: MeshWeaver.Messaging.Contract\"\n",
                "#r \"nuget: MeshWeaver.Layout\"\n",
                "#r \"nuget: MeshWeaver.Domain\"\n",
                "#r \"nuget: MeshWeaver.Messaging.Hub\"\n",
                "#r \"nuget: MeshWeaver.Connection.Notebook\"\n"
            ]
        },
        {
            "cell_type": "code",
            "execution_count": null,
            "metadata": {
                "dotnet_interactive": {
                    "language": "csharp"
                },
                "polyglot_notebook": {
                    "kernelName": "csharp"
                }
            },
            "outputs": [],
            "source": [
                "using MeshWeaver.Messaging;\n",
                "using MeshWeaver.Mesh;\n",
                "using System.Threading;\n",
                "var client = await MeshWeaver.Connection.Notebook.MeshConnection\n",
                "    .Configure(\"https://localhost:65260/connection\")\n",
                "    .ConnectAsync();"
            ]
        },
        {
            "cell_type": "code",
            "execution_count": null,
            "metadata": {
                "dotnet_interactive": {
                    "language": "csharp"
                },
                "polyglot_notebook": {
                    "kernelName": "csharp"
                }
            },
            "outputs": [],
            "source": []
        },
        {
            "cell_type": "code",
            "execution_count": null,
            "metadata": {
                "dotnet_interactive": {
                    "language": "csharp"
                },
                "polyglot_notebook": {
                    "kernelName": "csharp"
                }
            },
            "outputs": [],
            "source": []
        }
    ],
    "metadata": {
        "kernelspec": {
            "display_name": ".NET (C#)",
            "language": "C#",
            "name": ".net-csharp"
        },
        "polyglot_notebook": {
            "kernelInfo": {
                "defaultKernelName": "csharp",
                "items": [
                    {
                        "aliases": [],
                        "languageName": "csharp",
                        "name": "csharp"
                    }
                ]
            }
        }
    },
    "nbformat": 4,
    "nbformat_minor": 2
}