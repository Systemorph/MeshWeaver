{
    "cells": [
        {
            "cell_type": "markdown",
            "metadata": {},
            "source": [
                "### Charting\n",
                "\n",
                "The chart library is based on [ChartJs](https://www.chartjs.org/). The MeshWeaver classes are wrappers around the javascript data structures defined in ChartJs and provide a fluent API to interface seemingless with C#. "
            ]
        },
        {
            "cell_type": "code",
            "execution_count": 1,
            "metadata": {
                "dotnet_interactive": {
                    "language": "csharp"
                },
                "polyglot_notebook": {
                    "kernelName": "csharp"
                },
                "vscode": {
                    "languageId": "polyglot-notebook"
                }
            },
            "outputs": [
                {
                    "data": {
                        "text/html": [
                            "<div><div></div><div></div><div><strong>Installed Packages</strong><ul><li><span>MeshWeaver.Connection.Notebook, 2.0.0-preview1</span></li></ul></div></div>"
                        ]
                    },
                    "metadata": {},
                    "output_type": "display_data"
                },
                {
                    "data": {
                        "text/plain": [
                            "Loading extension script from `C:\\Users\\rolan\\.nuget\\packages\\meshweaver.connection.notebook\\2.0.0-preview1\\interactive-extensions\\dotnet\\extension.dib`"
                        ]
                    },
                    "metadata": {},
                    "output_type": "display_data"
                },
                {
                    "name": "stdout",
                    "output_type": "stream",
                    "text": [
                        "Usage:\n",
                        "#!connect mesh --url https://<mesh-weaver-host>/kernel --kernel-name <kernel-name>\r\n"
                    ]
                }
            ],
            "source": [
                "#r \"nuget:MeshWeaver.Connection.Notebook, 2.0.0-preview1\""
            ]
        },
        {
            "cell_type": "code",
            "execution_count": 2,
            "metadata": {
                "dotnet_interactive": {
                    "language": "csharp"
                },
                "polyglot_notebook": {
                    "kernelName": "csharp"
                },
                "vscode": {
                    "languageId": "polyglot-notebook"
                }
            },
            "outputs": [
                {
                    "data": {
                        "text/plain": [
                            "Kernel added: #!mesh"
                        ]
                    },
                    "metadata": {},
                    "output_type": "display_data"
                }
            ],
            "source": [
                "#!connect mesh https://localhost:65260/kernel --kernel-name mesh"
            ]
        },
        {
            "cell_type": "markdown",
            "metadata": {},
            "source": [
                "### Including Libraries\n",
                "Whereas for nuget packages we have to type\n",
                "\n",
                "```csharp\n",
                "    #r \"nuget: MathNet.Numerics\"\n",
                "```\n",
                "\n",
                "We can also include libraries which are already deployed with Mesh Weaver. Here, we include the Charting library, which we have deployed into the portal. This is why we omit the specifier nuget and just write\n",
                "\n",
                "```csharp\n",
                "    #r \"MeshWeaver.Charting\"\n",
                "```\n"
            ]
        },
        {
            "cell_type": "code",
            "execution_count": 3,
            "metadata": {
                "dotnet_interactive": {
                    "language": "mesh"
                },
                "polyglot_notebook": {
                    "kernelName": "mesh"
                },
                "vscode": {
                    "languageId": "polyglot-notebook"
                }
            },
            "outputs": [],
            "source": [
                "#r \"MeshWeaver.Charting\"\n",
                "using MeshWeaver.Layout;\n",
                "using MeshWeaver.Mesh;\n",
                "using static MeshWeaver.Layout.Controls;\n",
                "using Microsoft.DotNet.Interactive.Formatting;\n",
                "using MeshWeaver.Charting;"
            ]
        },
        {
            "cell_type": "markdown",
            "metadata": {},
            "source": [
                "### Pareto Distribution\n",
                "\n",
                "The probability density function (PDF) of the Pareto distribution:\n",
                "\n",
                "$$f(x) = \\frac{\\alpha x_0^\\alpha}{x^{\\alpha+1}}$$\n",
                "\n",
                "where:\n",
                "\n",
                "$\\alpha$ is the shape parameter (tail index)\n",
                "$x_m$ is the scale parameter (minimum value)\n",
                "Pareto CDF Formula\n",
                "The cumulative distribution function (CDF) of the Pareto distribution:\n",
                "\n",
                "$$F(x) = 1 - (\\frac{x}{x_0})^{-\\alpha}$$\n",
                "\n",
                "where:\n",
                "\n",
                "$\\alpha$ is the shape parameter (tail index)\n",
                "$x_0$ is the scale parameter (minimum value)\n"
            ]
        },
        {
            "cell_type": "code",
            "execution_count": 4,
            "metadata": {
                "dotnet_interactive": {
                    "language": "mesh"
                },
                "polyglot_notebook": {
                    "kernelName": "mesh"
                },
                "vscode": {
                    "languageId": "polyglot-notebook"
                }
            },
            "outputs": [],
            "source": [
                "double ParetoQuantile(double p, double alpha, double x0)\n",
                "=> x0 * Math.Pow(1 - p, -1 / alpha);"
            ]
        },
        {
            "cell_type": "code",
            "execution_count": 5,
            "metadata": {
                "dotnet_interactive": {
                    "language": "mesh"
                },
                "polyglot_notebook": {
                    "kernelName": "mesh"
                },
                "vscode": {
                    "languageId": "polyglot-notebook"
                }
            },
            "outputs": [
                {
                    "data": {
                        "text/html": [
                            "<iframe id='-QV1par4XUCbV-dNRiq4wA' src='https://localhost:65260/area/kernel/f9cfb303-b051-40b2-930e-f092bb726e84/-QV1par4XUCbV-dNRiq4wA' style='width: 700px; height: 400px;display: block; margin: 0 auto; '></iframe>"
                        ]
                    },
                    "metadata": {},
                    "output_type": "display_data"
                }
            ],
            "source": [
                "var random = new Random();\n",
                "var alpha = 1.5;\n",
                "var x0 = 1.0;\n",
                "var nSamples = 1000;\n",
                "var samples = Enumerable.Range(0, nSamples).Select(i => ParetoQuantile(random.NextDouble(), alpha, x0)).OrderBy(x => x).ToArray();\n",
                "\n",
                "var min = samples.First();\n",
                "var max = samples.Last();\n",
                "var nHistogram = 100;\n",
                "var binWidth = (max - min) / nHistogram;\n",
                "var histogram = samples.GroupBy(x => Math.Floor((x-min) / binWidth)).Select(g => (g.Key, Count:g.Count())).ToArray();\n",
                "\n",
                "\n",
                "var barHistogram = DataSet.Bar(histogram.Select(x => x.Count / (double)nSamples), \"PDF\");\n",
                "var pdfChart = Chart.Create(barHistogram)  \n",
                "    .WithLabels(histogram.Select(x => (x.Key * binWidth + min).ToString(\"F1\")))\n",
                "    .ToControl()\n",
                "    .WithStyle(style => style.WithWidth(\"700px\").WithHeight(\"400px\"));\n",
                "\n",
                "pdfChart"
            ]
        },
        {
            "cell_type": "code",
            "execution_count": 6,
            "metadata": {
                "dotnet_interactive": {
                    "language": "mesh"
                },
                "polyglot_notebook": {
                    "kernelName": "mesh"
                },
                "vscode": {
                    "languageId": "polyglot-notebook"
                }
            },
            "outputs": [
                {
                    "data": {
                        "text/html": [
                            "<iframe id='dU9e4DrHRkCrCf-fJp15kw' src='https://localhost:65260/area/kernel/f9cfb303-b051-40b2-930e-f092bb726e84/dU9e4DrHRkCrCf-fJp15kw' style='width: 700px; height: 400px;display: block; margin: 0 auto; '></iframe>"
                        ]
                    },
                    "metadata": {},
                    "output_type": "display_data"
                }
            ],
            "source": [
                "var sum = 0.0;\n",
                "var binWidthHalf = binWidth / 2;\n",
                "var cdf = histogram.Select(x => (x.Key, Count: sum += x.Count)).ToArray();\n",
                "var lineCdf = DataSet.Line(cdf.Select(x => x.Count / (double)nSamples), \"CDF\");\n",
                "\n",
                "var cdfChart = Chart.Create(lineCdf)\n",
                "    .WithLabels(cdf.Select(x => (x.Key * binWidth + min).ToString(\"F1\")))\n",
                "    .ToControl()\n",
                "    .WithStyle(style => style.WithWidth(\"700px\").WithHeight(\"400px\"));\n",
                "\n",
                "cdfChart"
            ]
        },
        {
            "cell_type": "code",
            "execution_count": 7,
            "metadata": {
                "dotnet_interactive": {
                    "language": "mesh"
                },
                "polyglot_notebook": {
                    "kernelName": "mesh"
                },
                "vscode": {
                    "languageId": "polyglot-notebook"
                }
            },
            "outputs": [
                {
                    "data": {
                        "text/html": [
                            "<iframe id='zDLVYDeDaUa82LeeL1diow' src='https://localhost:65260/area/kernel/f9cfb303-b051-40b2-930e-f092bb726e84/zDLVYDeDaUa82LeeL1diow' style='width: 700px; height: 400px;display: block; margin: 0 auto; '></iframe>"
                        ]
                    },
                    "metadata": {},
                    "output_type": "display_data"
                }
            ],
            "source": [
                "cdfChart = Chart.Create(lineCdf.WithStepped(\"before\").WithTension(0.0).WithBorderWidth(2))\n",
                "    .WithLabels(cdf.Select(x => (x.Key * binWidth + min).ToString(\"F1\")))\n",
                "    .ToControl()\n",
                "    .WithStyle(style => style.WithWidth(\"700px\").WithHeight(\"400px\"));\n",
                "\n",
                "cdfChart"
            ]
        },
        {
            "cell_type": "code",
            "execution_count": 8,
            "metadata": {
                "dotnet_interactive": {
                    "language": "mesh"
                },
                "polyglot_notebook": {
                    "kernelName": "mesh"
                },
                "vscode": {
                    "languageId": "polyglot-notebook"
                }
            },
            "outputs": [
                {
                    "data": {
                        "text/html": [
                            "<iframe id='pgRqPp-zG0KylAv6-RpJeA' src='https://localhost:65260/area/kernel/f9cfb303-b051-40b2-930e-f092bb726e84/pgRqPp-zG0KylAv6-RpJeA' style='width: 700px; height: 400px;display: block; margin: 0 auto; '></iframe>"
                        ]
                    },
                    "metadata": {},
                    "output_type": "display_data"
                }
            ],
            "source": [
                "Chart.Create(barHistogram, lineCdf)\n",
                "    .WithLabels(cdf.Select(x => (x.Key * binWidth + min).ToString(\"F1\")))\n",
                "    .ToControl()\n",
                "    .WithStyle(style => style.WithWidth(\"700px\").WithHeight(\"400px\"))"
            ]
        },
        {
            "cell_type": "code",
            "execution_count": 9,
            "metadata": {
                "dotnet_interactive": {
                    "language": "mesh"
                },
                "polyglot_notebook": {
                    "kernelName": "mesh"
                },
                "vscode": {
                    "languageId": "polyglot-notebook"
                }
            },
            "outputs": [
                {
                    "data": {
                        "text/html": [
                            "<iframe id='n1WANLtBoEyGlag2sH6aeg' src='https://localhost:65260/area/kernel/f9cfb303-b051-40b2-930e-f092bb726e84/n1WANLtBoEyGlag2sH6aeg' style='width: 700px; height: 800px;display: block; margin: 0 auto; '></iframe>"
                        ]
                    },
                    "metadata": {},
                    "output_type": "display_data"
                }
            ],
            "source": [
                "Stack\n",
                "    .WithView(pdfChart)\n",
                "    .WithView(cdfChart)\n",
                "    .WithStyle(style => style.WithWidth(\"700px\").WithHeight(\"800px\"))"
            ]
        },
        {
            "cell_type": "code",
            "execution_count": null,
            "metadata": {
                "dotnet_interactive": {
                    "language": "csharp"
                },
                "polyglot_notebook": {
                    "kernelName": "csharp"
                },
                "vscode": {
                    "languageId": "polyglot-notebook"
                }
            },
            "outputs": [],
            "source": []
        }
    ],
    "metadata": {
        "kernelspec": {
            "display_name": ".NET (C#)",
            "language": "C#",
            "name": ".net-csharp"
        },
        "language_info": {
            "name": "F#"
        },
        "polyglot_notebook": {
            "kernelInfo": {
                "defaultKernelName": "csharp",
                "items": [
                    {
                        "aliases": [],
                        "name": "csharp"
                    },
                    {
                        "aliases": [],
                        "languageName": "C#",
                        "name": "mesh"
                    }
                ]
            }
        }
    },
    "nbformat": 4,
    "nbformat_minor": 2
}
