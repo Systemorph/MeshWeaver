{
    "cells": [
        {
            "cell_type": "markdown",
            "metadata": {},
            "source": [
                "## Specifying User Interfaces\n",
                "\n",
                "Even for experienced software architects, it is not easy to specify user interfaces. For users, it is even more complex, especially if they have never worked with software projects before.\n",
                "\n",
                "The current notebook frameworks provide very little interactivity and are not very useful. On the other hand, the tools to provide mockups for user interface designers are not easy to use by non-technical persons and don't allow to include business logic. This makes the process of designing artificial data and views cumbersome. \n",
                "\n",
                "Mesh Weaver provides interactive user interfaces even in notebook environments thus allowing for a highly agile way of specifying user interfaces."
            ]
        },
        {
            "cell_type": "code",
            "execution_count": null,
            "metadata": {
                "dotnet_interactive": {
                    "language": "csharp"
                },
                "polyglot_notebook": {
                    "kernelName": "csharp"
                },
                "vscode": {
                    "languageId": "polyglot-notebook"
                }
            },
            "outputs": [],
            "source": [
                "#r \"nuget:MeshWeaver.Connection.Notebook, 2.0.0-preview1\""
            ]
        },
        {
            "cell_type": "code",
            "execution_count": null,
            "metadata": {
                "dotnet_interactive": {
                    "language": "csharp"
                },
                "polyglot_notebook": {
                    "kernelName": "csharp"
                },
                "vscode": {
                    "languageId": "polyglot-notebook"
                }
            },
            "outputs": [],
            "source": [
                "#!connect mesh https://localhost:65260/kernel --kernel-name mesh"
            ]
        },
        {
            "cell_type": "code",
            "execution_count": 3,
            "metadata": {
                "dotnet_interactive": {
                    "language": "mesh"
                },
                "polyglot_notebook": {
                    "kernelName": "mesh"
                },
                "vscode": {
                    "languageId": "polyglot-notebook"
                }
            },
            "outputs": [],
            "source": [
                "using MeshWeaver.Layout;\n",
                "using MeshWeaver.Mesh;\n",
                "using static MeshWeaver.Layout.Controls;\n",
                "using Microsoft.DotNet.Interactive.Formatting;"
            ]
        },
        {
            "cell_type": "markdown",
            "metadata": {
                "vscode": {
                    "languageId": "polyglot-notebook"
                }
            },
            "source": [
                "### Building a simple calculator\n",
                "\n",
                "In this example, we will program a simple calulcator. We will start off by programming the business logic:"
            ]
        },
        {
            "cell_type": "code",
            "execution_count": 4,
            "metadata": {
                "dotnet_interactive": {
                    "language": "mesh"
                },
                "polyglot_notebook": {
                    "kernelName": "mesh"
                },
                "vscode": {
                    "languageId": "polyglot-notebook"
                }
            },
            "outputs": [],
            "source": [
                "record Calculator(double Summand1, double Summand2);\n",
                "static object CalculatorSum(Calculator c) => $\"**Sum**: {c.Summand1 + c.Summand2}\";"
            ]
        },
        {
            "cell_type": "code",
            "execution_count": null,
            "metadata": {
                "dotnet_interactive": {
                    "language": "mesh"
                },
                "polyglot_notebook": {
                    "kernelName": "mesh"
                },
                "vscode": {
                    "languageId": "polyglot-notebook"
                }
            },
            "outputs": [],
            "source": [
                "CalculatorSum(new(1,2))"
            ]
        },
        {
            "cell_type": "code",
            "execution_count": null,
            "metadata": {
                "dotnet_interactive": {
                    "language": "mesh"
                },
                "polyglot_notebook": {
                    "kernelName": "mesh"
                },
                "vscode": {
                    "languageId": "polyglot-notebook"
                }
            },
            "outputs": [],
            "source": [
                "Mesh.Edit(new Calculator(1,2))\n",
                ".WithStyle(style => style.WithHeight(\"150px\"))\n"
            ]
        },
        {
            "cell_type": "code",
            "execution_count": null,
            "metadata": {
                "dotnet_interactive": {
                    "language": "mesh"
                },
                "polyglot_notebook": {
                    "kernelName": "mesh"
                },
                "vscode": {
                    "languageId": "polyglot-notebook"
                }
            },
            "outputs": [],
            "source": [
                "static object MarkdownSum(Calculator c)=> Markdown(CalculatorSum(c));\n",
                "Mesh.Edit(new Calculator(1,2), MarkdownSum)\n",
                "    .WithStyle(style => style.WithHeight(\"200px\"))\n",
                "    .ToDisplayString(\"text/html\")"
            ]
        },
        {
            "cell_type": "markdown",
            "metadata": {
                "vscode": {
                    "languageId": "polyglot-notebook"
                }
            },
            "source": [
                "The business logic is kept on the server and will not be visible or deployed to the client. This is important for business logic, as it can be changed centrally and only view data is exchanged."
            ]
        },
        {
            "cell_type": "code",
            "execution_count": null,
            "metadata": {
                "dotnet_interactive": {
                    "language": "mermaid"
                },
                "polyglot_notebook": {
                    "kernelName": "mermaid"
                },
                "vscode": {
                    "languageId": "polyglot-notebook"
                }
            },
            "outputs": [],
            "source": [
                "%%{init: {'theme': 'base', 'themeVariables': { 'primaryColor': '#ffcc00', 'edgeLabelBackground':'#ffffff', 'tertiaryColor': '#ffcc00'}}}%%\n",
                "graph TD\n",
                "    subgraph Notebook\n",
                "        A[Data Changed Summand1]\n",
                "    end\n",
                "\n",
                "    subgraph Mesh\n",
                "        B[Route]\n",
                "        E[Route]\n",
                "    end\n",
                "\n",
                "    subgraph Kernel\n",
                "        C[Compute Sum]\n",
                "        D[Data Changed Sum]\n",
                "    end\n",
                "\n",
                "    A -->|Post| B\n",
                "    B -->|Route| C\n",
                "    C -->|Handle| D\n",
                "    D -->|Post| E\n",
                "    E -->|Route| A"
            ]
        },
        {
            "cell_type": "code",
            "execution_count": null,
            "metadata": {
                "vscode": {
                    "languageId": "polyglot-notebook"
                }
            },
            "outputs": [],
            "source": []
        }
    ],
    "metadata": {
        "kernelspec": {
            "display_name": ".NET (C#)",
            "language": "C#",
            "name": ".net-csharp"
        },
        "language_info": {
            "name": "F#"
        },
        "polyglot_notebook": {
            "kernelInfo": {
                "defaultKernelName": "csharp",
                "items": [
                    {
                        "aliases": [],
                        "name": "csharp"
                    },
                    {
                        "aliases": [],
                        "languageName": "C#",
                        "name": "mesh"
                    }
                ]
            }
        }
    },
    "nbformat": 4,
    "nbformat_minor": 2
}
