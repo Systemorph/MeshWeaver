{
    "cells": [
        {
            "cell_type": "markdown",
            "metadata": {},
            "source": [
                "## Specifying User Interfaces\n",
                "\n",
                "Even for experienced software architects, it is not easy to specify user interfaces. For users, it is even more complex, especially if they have never worked with software projects before.\n",
                "\n",
                "The current notebook frameworks provide very little interactivity and are not very useful. On the other hand, the tools to provide mockups for user interface designers are not easy to use by non-technical persons and don't allow to include business logic. This makes the process of designing artificial data and views cumbersome. \n",
                "\n",
                "Mesh Weaver provides interactive user interfaces even in notebook environments thus allowing for a highly agile way of specifying user interfaces."
            ]
        },
        {
            "cell_type": "code",
            "execution_count": 1,
            "metadata": {
                "dotnet_interactive": {
                    "language": "csharp"
                },
                "polyglot_notebook": {
                    "kernelName": "csharp"
                },
                "vscode": {
                    "languageId": "polyglot-notebook"
                }
            },
            "outputs": [
                {
                    "data": {
                        "text/html": [
                            "<div><div></div><div></div><div><strong>Installed Packages</strong><ul><li><span>MeshWeaver.Connection.Notebook, 2.0.0-preview1</span></li></ul></div></div>"
                        ]
                    },
                    "metadata": {},
                    "output_type": "display_data"
                },
                {
                    "data": {
                        "text/plain": [
                            "Loading extension script from `C:\\Users\\rolan\\.nuget\\packages\\meshweaver.connection.notebook\\2.0.0-preview1\\interactive-extensions\\dotnet\\extension.dib`"
                        ]
                    },
                    "metadata": {},
                    "output_type": "display_data"
                },
                {
                    "name": "stdout",
                    "output_type": "stream",
                    "text": [
                        "Usage:\n",
                        "#!connect mesh --url https://<mesh-weaver-host>/kernel --kernel-name <kernel-name>\r\n"
                    ]
                }
            ],
            "source": [
                "#r \"nuget:MeshWeaver.Connection.Notebook, 2.0.0-preview1\""
            ]
        },
        {
            "cell_type": "code",
            "execution_count": 2,
            "metadata": {
                "dotnet_interactive": {
                    "language": "csharp"
                },
                "polyglot_notebook": {
                    "kernelName": "csharp"
                },
                "vscode": {
                    "languageId": "polyglot-notebook"
                }
            },
            "outputs": [
                {
                    "data": {
                        "text/plain": [
                            "Kernel added: #!mesh"
                        ]
                    },
                    "metadata": {},
                    "output_type": "display_data"
                }
            ],
            "source": [
                "#!connect mesh https://localhost:65260/kernel --kernel-name mesh"
            ]
        },
        {
            "cell_type": "code",
            "execution_count": 3,
            "metadata": {
                "dotnet_interactive": {
                    "language": "mesh"
                },
                "polyglot_notebook": {
                    "kernelName": "mesh"
                },
                "vscode": {
                    "languageId": "polyglot-notebook"
                }
            },
            "outputs": [],
            "source": [
                "using MeshWeaver.Layout;\n",
                "using MeshWeaver.Mesh;\n",
                "using static MeshWeaver.Layout.Controls;\n",
                "using Microsoft.DotNet.Interactive.Formatting;"
            ]
        },
        {
            "cell_type": "markdown",
            "metadata": {
                "vscode": {
                    "languageId": "polyglot-notebook"
                }
            },
            "source": [
                "### Building a simple calculator\n",
                "\n",
                "In this example, we will program a simple calulcator. We will start off by programming the business logic:"
            ]
        },
        {
            "cell_type": "code",
            "execution_count": 4,
            "metadata": {
                "dotnet_interactive": {
                    "language": "mesh"
                },
                "polyglot_notebook": {
                    "kernelName": "mesh"
                },
                "vscode": {
                    "languageId": "polyglot-notebook"
                }
            },
            "outputs": [],
            "source": [
                "record Calculator(double Summand1, double Summand2);\n",
                "static object CalculatorSum(Calculator c) => $\"**Sum**: {c.Summand1 + c.Summand2}\";"
            ]
        },
        {
            "cell_type": "code",
            "execution_count": 5,
            "metadata": {
                "dotnet_interactive": {
                    "language": "mesh"
                },
                "polyglot_notebook": {
                    "kernelName": "mesh"
                },
                "vscode": {
                    "languageId": "polyglot-notebook"
                }
            },
            "outputs": [
                {
                    "data": {
                        "text/plain": [
                            "**Sum**: 3"
                        ]
                    },
                    "metadata": {},
                    "output_type": "display_data"
                }
            ],
            "source": [
                "CalculatorSum(new(1,2))"
            ]
        },
        {
            "cell_type": "code",
            "execution_count": 10,
            "metadata": {
                "dotnet_interactive": {
                    "language": "mesh"
                },
                "polyglot_notebook": {
                    "kernelName": "mesh"
                },
                "vscode": {
                    "languageId": "polyglot-notebook"
                }
            },
            "outputs": [
                {
                    "data": {
                        "text/html": [
                            "<iframe id='0sJn5RMJsEWn0CW4a1bxhQ' src='https://localhost:65260/area/kernel/a604b33c-cfee-4ad9-9cf3-1901c1f9fd78/0sJn5RMJsEWn0CW4a1bxhQ' style='height: 150px;display: block; margin: 0 auto; width: 100%; '></iframe>"
                        ]
                    },
                    "metadata": {},
                    "output_type": "display_data"
                }
            ],
            "source": [
                "Mesh.Edit(new Calculator(1,2))\n",
                ".WithStyle(style => style.WithHeight(\"150px\"))\n"
            ]
        },
        {
            "cell_type": "code",
            "execution_count": 15,
            "metadata": {
                "dotnet_interactive": {
                    "language": "mesh"
                },
                "polyglot_notebook": {
                    "kernelName": "mesh"
                },
                "vscode": {
                    "languageId": "polyglot-notebook"
                }
            },
            "outputs": [
                {
                    "data": {
                        "text/html": [
                            "<iframe id='Gdt_LvX1VUKKLoOS6rVt-w' src='https://localhost:65260/area/kernel/a604b33c-cfee-4ad9-9cf3-1901c1f9fd78/Gdt_LvX1VUKKLoOS6rVt-w' style='height: 200px;display: block; margin: 0 auto; width: 100%; '></iframe>"
                        ]
                    },
                    "metadata": {},
                    "output_type": "display_data"
                }
            ],
            "source": [
                "static object MarkdownSum(Calculator c)=> Markdown(CalculatorSum(c));\n",
                "Mesh.Edit(new Calculator(1,2), MarkdownSum)\n",
                "    .WithStyle(style => style.WithHeight(\"200px\"))\n"
            ]
        },
        {
            "cell_type": "markdown",
            "metadata": {
                "vscode": {
                    "languageId": "polyglot-notebook"
                }
            },
            "source": [
                "The business logic is kept on the server and will not be visible or deployed to the client. This is important for business logic, as it can be changed centrally and only view data is exchanged."
            ]
        },
        {
            "cell_type": "code",
            "execution_count": 18,
            "metadata": {
                "dotnet_interactive": {
                    "language": "mermaid"
                },
                "polyglot_notebook": {
                    "kernelName": "mermaid"
                },
                "vscode": {
                    "languageId": "polyglot-notebook"
                }
            },
            "outputs": [
                {
                    "data": {
                        "text/html": [
                            "<div class=\"mermaidMarkdownContainer\" style=\"background-color:white\">\r\n",
                            "<link rel=\"stylesheet\" href=\"https://cdnjs.cloudflare.com/ajax/libs/font-awesome/6.2.0/css/all.min.css\">\r\n",
                            "<div id=\"483b706a904c4005af0a0509350e92c3\"></div>\r\n",
                            "<script type=\"module\">\r\n",
                            "\r\n",
                            "            import mermaid from 'https://cdn.jsdelivr.net/npm/mermaid@10.6.1/dist/mermaid.esm.min.mjs';\r\n",
                            "            let renderTarget = document.getElementById('483b706a904c4005af0a0509350e92c3');\r\n",
                            "            try {\r\n",
                            "                const {svg, bindFunctions} = await mermaid.mermaidAPI.render( \r\n",
                            "                    'mermaid_483b706a904c4005af0a0509350e92c3', \r\n",
                            "                    `%%{init: {'theme': 'base', 'themeVariables': { 'primaryColor': '#ffcc00', 'edgeLabelBackground':'#ffffff', 'tertiaryColor': '#ffcc00'}}}%%\r\n",
                            "graph TD\r\n",
                            "    subgraph Notebook\r\n",
                            "        A[Data Changed Summand1]\r\n",
                            "    end\r\n",
                            "\r\n",
                            "    subgraph Mesh\r\n",
                            "        B[Route]\r\n",
                            "        E[Route]\r\n",
                            "    end\r\n",
                            "\r\n",
                            "    subgraph Kernel\r\n",
                            "        C[Compute Sum]\r\n",
                            "        D[Data Changed Sum]\r\n",
                            "    end\r\n",
                            "\r\n",
                            "    A -->|Post| B\r\n",
                            "    B -->|Route| C\r\n",
                            "    C -->|Handle| D\r\n",
                            "    D -->|Post| E\r\n",
                            "    E -->|Route| A`);\r\n",
                            "                renderTarget.innerHTML = svg;\r\n",
                            "                bindFunctions?.(renderTarget);\r\n",
                            "            }\r\n",
                            "            catch (error) {\r\n",
                            "                console.log(error);\r\n",
                            "            }\r\n",
                            "</script>\r\n",
                            "</div>\r\n"
                        ]
                    },
                    "metadata": {},
                    "output_type": "display_data"
                }
            ],
            "source": [
                "%%{init: {'theme': 'base', 'themeVariables': { 'primaryColor': '#ffcc00', 'edgeLabelBackground':'#ffffff', 'tertiaryColor': '#ffcc00'}}}%%\n",
                "graph TD\n",
                "    subgraph Notebook\n",
                "        A[Data Changed Summand1]\n",
                "    end\n",
                "\n",
                "    subgraph Mesh\n",
                "        B[Route]\n",
                "        E[Route]\n",
                "    end\n",
                "\n",
                "    subgraph Kernel\n",
                "        C[Compute Sum]\n",
                "        D[Data Changed Sum]\n",
                "    end\n",
                "\n",
                "    A -->|Post| B\n",
                "    B -->|Route| C\n",
                "    C -->|Handle| D\n",
                "    D -->|Post| E\n",
                "    E -->|Route| A"
            ]
        }
    ],
    "metadata": {
        "kernelspec": {
            "display_name": ".NET (C#)",
            "language": "C#",
            "name": ".net-csharp"
        },
        "language_info": {
            "name": "F#"
        },
        "polyglot_notebook": {
            "kernelInfo": {
                "defaultKernelName": "csharp",
                "items": [
                    {
                        "aliases": [],
                        "name": "csharp"
                    },
                    {
                        "aliases": [],
                        "languageName": "C#",
                        "name": "mesh"
                    }
                ]
            }
        }
    },
    "nbformat": 4,
    "nbformat_minor": 2
}
