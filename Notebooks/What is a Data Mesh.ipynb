{
    "cells": [
        {
            "cell_type": "markdown",
            "metadata": {},
            "source": [
                "## What is a Data Mesh?\n",
                "\n",
                "Data mesh is a sociotechnical approach to building a decentralized data architecture by leveraging a domain-oriented, self-serve design (in a software development perspective), and borrows Eric Evans’ theory of domain-driven design and Manuel Pais’ and Matthew Skelton’s theory of team topologies. Data mesh mainly concerns itself with the data itself, taking the data lake and the pipelines as a secondary concern. The main proposition is scaling analytical data by domain-oriented decentralization. With data mesh, the responsibility for analytical data is shifted from the central data team to the domain teams, supported by a data platform team that provides a domain-agnostic data platform. This enables a decrease in data disorder or the existence of isolated data silos, due to the presence of a centralized system that ensures the consistent sharing of fundamental principles across various nodes within the data mesh and allows for the sharing of data across different areas. ([Wikipedia](https://en.wikipedia.org/wiki/Data_mesh)).\n",
                "\n",
                "Main Characteristics:\n",
                "\n",
                "1. The Mesh is organized decentrally, i.e. teams can automonously publish and consume data without involving central teams.\n",
                "2. Data is treated as a product with Service Level Objectives (SLO).\n",
                "3. Consumers can discover data and conume under the SLOs. "
            ]
        },
        {
            "cell_type": "code",
            "execution_count": 1,
            "metadata": {
                "dotnet_interactive": {
                    "language": "csharp"
                },
                "polyglot_notebook": {
                    "kernelName": "csharp"
                },
                "vscode": {
                    "languageId": "polyglot-notebook"
                }
            },
            "outputs": [
                {
                    "data": {
                        "text/html": [
                            "<div><div></div><div></div><div><strong>Installed Packages</strong><ul><li><span>MeshWeaver.Connection.Notebook, 2.0.0-preview1</span></li></ul></div></div>"
                        ]
                    },
                    "metadata": {},
                    "output_type": "display_data"
                },
                {
                    "data": {
                        "text/plain": [
                            "Loading extension script from `C:\\Users\\rolan\\.nuget\\packages\\meshweaver.connection.notebook\\2.0.0-preview1\\interactive-extensions\\dotnet\\extension.dib`"
                        ]
                    },
                    "metadata": {},
                    "output_type": "display_data"
                },
                {
                    "name": "stdout",
                    "output_type": "stream",
                    "text": [
                        "Usage:\n",
                        "#!connect mesh --url https://<mesh-weaver-host>/kernel --kernel-name <kernel-name>\r\n"
                    ]
                }
            ],
            "source": [
                "#r \"nuget:MeshWeaver.Connection.Notebook, 2.0.0-preview1\""
            ]
        },
        {
            "cell_type": "code",
            "execution_count": 2,
            "metadata": {
                "dotnet_interactive": {
                    "language": "csharp"
                },
                "polyglot_notebook": {
                    "kernelName": "csharp"
                },
                "vscode": {
                    "languageId": "polyglot-notebook"
                }
            },
            "outputs": [
                {
                    "data": {
                        "text/plain": [
                            "Kernel added: #!mesh"
                        ]
                    },
                    "metadata": {},
                    "output_type": "display_data"
                }
            ],
            "source": [
                "#!connect mesh https://localhost:65260/kernel --kernel-name mesh"
            ]
        },
        {
            "cell_type": "code",
            "execution_count": 3,
            "metadata": {
                "dotnet_interactive": {
                    "language": "mesh"
                },
                "polyglot_notebook": {
                    "kernelName": "mesh"
                },
                "vscode": {
                    "languageId": "polyglot-notebook"
                }
            },
            "outputs": [
                {
                    "data": {
                        "text/html": [
                            "<details open=\"open\" class=\"dni-treeview\"><summary><span class=\"dni-code-hint\"><code>kernel/1a277e8c-c243-4777-a7fe-b18c2259e6fe</code></span></summary><div><table><thead><tr></tr></thead><tbody><tr><td>Id</td><td><div class=\"dni-plaintext\"><pre>1a277e8c-c243-4777-a7fe-b18c2259e6fe</pre></div></td></tr></tbody></table></div></details><style>\r\n",
                            ".dni-code-hint {\r\n",
                            "    font-style: italic;\r\n",
                            "    overflow: hidden;\r\n",
                            "    white-space: nowrap;\r\n",
                            "}\r\n",
                            ".dni-treeview {\r\n",
                            "    white-space: nowrap;\r\n",
                            "}\r\n",
                            ".dni-treeview td {\r\n",
                            "    vertical-align: top;\r\n",
                            "    text-align: start;\r\n",
                            "}\r\n",
                            "details.dni-treeview {\r\n",
                            "    padding-left: 1em;\r\n",
                            "}\r\n",
                            "table td {\r\n",
                            "    text-align: start;\r\n",
                            "}\r\n",
                            "table tr { \r\n",
                            "    vertical-align: top; \r\n",
                            "    margin: 0em 0px;\r\n",
                            "}\r\n",
                            "table tr td pre \r\n",
                            "{ \r\n",
                            "    vertical-align: top !important; \r\n",
                            "    margin: 0em 0px !important;\r\n",
                            "} \r\n",
                            "table th {\r\n",
                            "    text-align: start;\r\n",
                            "}\r\n",
                            "</style>"
                        ]
                    },
                    "metadata": {},
                    "output_type": "display_data"
                }
            ],
            "source": [
                "using MeshWeaver.Layout;\n",
                "using MeshWeaver.Mesh;\n",
                "using static MeshWeaver.Layout.Controls;\n",
                "using Microsoft.DotNet.Interactive.Formatting;\n",
                "Mesh.Address"
            ]
        },
        {
            "cell_type": "markdown",
            "metadata": {},
            "source": [
                "## Sharing not only of Data but also of Views\n",
                "We belive that not only data should be shared but also entire views. In most cases, the views are non-trivial and do not just visualize data as is but are the product of many data points and entities with non-trivial business rules. Everyone who has worked in disciplines close to finance knows that even presumably easy concepts such as foreign exchange conversions are actually rocket science, and it is not easy to get them right, let alone do them consistently across the enterprise. \n",
                "\n",
                "Furthermore, every data owner should own the views to be shared. Especially in disciplines involving mathematical modelling, numbers can be reported which were not calibrated. The modeller should control which views are shared and which are not. \n",
                "\n",
                "As an example, in risk the expected value must be modeled along with the distributions. However, the expected value is not subject to risk management. Rather it is subtracted from the risk. Thus it is not appropriate to report on expected values, even though this is technically possible.\n",
                "\n",
                "Layout areas can be easily accessed using the layout area control:\n",
                "\n",
                "```csharp\n",
                "    LayoutArea(LayoutArea(new ApplicationAddress(\"My Application\"), \"My Area\"))\n",
                "```\n",
                "\n",
                "The available layout areas can be browsed using the user interface."
            ]
        },
        {
            "cell_type": "code",
            "execution_count": 4,
            "metadata": {
                "dotnet_interactive": {
                    "language": "mesh"
                },
                "polyglot_notebook": {
                    "kernelName": "mesh"
                },
                "vscode": {
                    "languageId": "polyglot-notebook"
                }
            },
            "outputs": [
                {
                    "data": {
                        "text/html": [
                            "<iframe id='s858GNTwVk2a8vvltSk9hA' src='https://localhost:65260/area/kernel/1a277e8c-c243-4777-a7fe-b18c2259e6fe/s858GNTwVk2a8vvltSk9hA' style='display: block; margin: 0 auto; width: 100%; height: 500px; '></iframe>"
                        ]
                    },
                    "metadata": {},
                    "output_type": "display_data"
                }
            ],
            "source": [
                "LayoutArea(new ApplicationAddress(\"Northwind\"), \"ProductOverview\")"
            ]
        },
        {
            "cell_type": "code",
            "execution_count": 5,
            "metadata": {
                "dotnet_interactive": {
                    "language": "mesh"
                },
                "polyglot_notebook": {
                    "kernelName": "mesh"
                },
                "vscode": {
                    "languageId": "polyglot-notebook"
                }
            },
            "outputs": [
                {
                    "data": {
                        "text/html": [
                            "<iframe id='-ImcWFg1A0qLc-c-oFGizw' src='https://localhost:65260/area/kernel/1a277e8c-c243-4777-a7fe-b18c2259e6fe/-ImcWFg1A0qLc-c-oFGizw' style='height: 300px;display: block; margin: 0 auto; width: 100%; '></iframe>"
                        ]
                    },
                    "metadata": {},
                    "output_type": "display_data"
                }
            ],
            "source": [
                "LayoutArea(new ApplicationAddress(\"Northwind\"), \"OrderSummary\")\n",
                ".WithStyle(style => style.WithHeight(\"300px\"))"
            ]
        },
        {
            "cell_type": "code",
            "execution_count": null,
            "metadata": {
                "vscode": {
                    "languageId": "polyglot-notebook"
                }
            },
            "outputs": [],
            "source": []
        }
    ],
    "metadata": {
        "kernelspec": {
            "display_name": ".NET (C#)",
            "language": "C#",
            "name": ".net-csharp"
        },
        "language_info": {
            "name": "F#"
        },
        "polyglot_notebook": {
            "kernelInfo": {
                "defaultKernelName": "csharp",
                "items": [
                    {
                        "aliases": [],
                        "name": "csharp"
                    },
                    {
                        "aliases": [],
                        "languageName": "C#",
                        "name": "mesh"
                    }
                ]
            }
        }
    },
    "nbformat": 4,
    "nbformat_minor": 2
}
