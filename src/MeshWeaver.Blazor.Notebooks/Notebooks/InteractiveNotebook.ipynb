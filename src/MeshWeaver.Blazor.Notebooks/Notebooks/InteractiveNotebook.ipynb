{
 "cells": [
  {
   "cell_type": "code",
   "execution_count": null,
   "metadata": {},
   "outputs": [],
   "source": [
    "// Load the MeshWeaver.Notebook library from the local build\n",
    "// #r \"C:\\dev\\MeshWeaver\\src\\MeshWeaver.Notebooks\\bin\\Debug\\net9.0\\MeshWeaver.Notebooks.dll\"\n",
    "// using MeshWeaver.Notebooks;\n",
    "\n",
    "    public record NotebookAddress(){\n",
    "        public string Id{get;init;} = \"1\";\n",
    "    }\n"
   ]
  },
  {
   "cell_type": "code",
   "execution_count": null,
   "metadata": {},
   "outputs": [
    {
     "data": {
      "text/html": [
       "<div><div></div><div></div><div><strong>Installed Packages</strong><ul><li><span>Microsoft.AspNetCore.SignalR.Client, 8.0.0</span></li></ul></div></div>"
      ]
     },
     "metadata": {},
     "output_type": "display_data"
    }
   ],
   "source": [
    "#r \"nuget:Microsoft.AspNetCore.SignalR.Client, 8.0.0\"\n",
    "using Microsoft.AspNetCore.SignalR.Client;\n"
   ]
  },
  {
   "cell_type": "code",
   "execution_count": null,
   "metadata": {
    "dotnet_interactive": {
     "language": "csharp"
    },
    "polyglot_notebook": {
     "kernelName": "csharp"
    }
   },
   "outputs": [
    {
     "name": "stdout",
     "output_type": "stream",
     "text": [
      "Connected to SignalR Hub\r\n"
     ]
    }
   ],
   "source": [
    "using System;\n",
    "using System.Collections.Generic;\n",
    "using System.Threading.Tasks;\n",
    "using Microsoft.AspNetCore.SignalR.Client;\n",
    "\n",
    "// Instantiate NotebookAddress\n",
    "var notebookAddress = new NotebookAddress();\n",
    "\n",
    "// Create a list to store received messages\n",
    "List<string> messages = new List<string>();\n",
    "\n",
    "// Register method on the SignalR NotebookHub\n",
    "var connection = new HubConnectionBuilder()\n",
    "    .WithUrl(\"https://localhost:65260/notebookhub\") // Add hub route\n",
    "    .WithAutomaticReconnect()  // Add automatic reconnection\n",
    "    .Build();\n",
    "\n",
    "// Add message handler\n",
    "connection.On<string>(\"ReceiveMessage\", (message) =>\n",
    "{\n",
    "    messages.Add(message);\n",
    "});\n",
    "\n",
    "// Start the connection\n",
    "try\n",
    "{\n",
    "    await connection.StartAsync();\n",
    "    await connection.SendAsync(\"Register\", \"MeshWeaver.Notebooks.NotebookAddress\", notebookAddress.Id);\n",
    "    Console.WriteLine(\"Connected to SignalR Hub\");\n",
    "}\n",
    "catch (Exception ex)\n",
    "{\n",
    "    Console.WriteLine($\"Error connecting to hub: {ex.Message}\");\n",
    "}"
   ]
  },
  {
   "cell_type": "code",
   "execution_count": null,
   "metadata": {
    "dotnet_interactive": {
     "language": "csharp"
    },
    "polyglot_notebook": {
     "kernelName": "csharp"
    }
   },
   "outputs": [
    {
     "name": "stdout",
     "output_type": "stream",
     "text": [
      "Framework Description: .NET 8.0.11\n",
      "Runtime Identifier: win-x64\n",
      "Process Architecture: X64\n",
      "OS Description: Microsoft Windows 10.0.22631\n"
     ]
    }
   ],
   "source": [
    "using System;\n",
    "using System.Runtime.InteropServices;\n",
    "Console.WriteLine($\"Framework Description: {RuntimeInformation.FrameworkDescription}\");\n",
    "Console.WriteLine($\"Runtime Identifier: {RuntimeInformation.RuntimeIdentifier}\");\n",
    "Console.WriteLine($\"Process Architecture: {RuntimeInformation.ProcessArchitecture}\");\n",
    "Console.WriteLine($\"OS Description: {RuntimeInformation.OSDescription}\");"
   ]
  },
  {
   "cell_type": "code",
   "execution_count": null,
   "metadata": {},
   "outputs": [],
   "source": []
  },
  {
   "cell_type": "code",
   "execution_count": null,
   "metadata": {},
   "outputs": [],
   "source": []
  }
 ],
 "metadata": {
  "kernelspec": {
   "display_name": ".NET (C#)",
   "language": "C#",
   "name": ".net-csharp"
  },
  "polyglot_notebook": {
   "kernelInfo": {
    "defaultKernelName": "csharp",
    "items": [
     {
      "aliases": [],
      "languageName": "csharp",
      "name": "csharp"
     }
    ]
   }
  }
 },
 "nbformat": 4,
 "nbformat_minor": 2
}
