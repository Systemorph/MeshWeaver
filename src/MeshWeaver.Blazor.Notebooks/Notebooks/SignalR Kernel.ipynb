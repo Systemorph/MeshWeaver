{
 "cells": [
  {
   "cell_type": "code",
   "execution_count": null,
   "metadata": {
    "dotnet_interactive": {
     "language": "csharp"
    },
    "polyglot_notebook": {
     "kernelName": "csharp"
    }
   },
   "outputs": [
    {
     "data": {
      "text/html": [
       "<div><div></div><div></div><div><strong>Installed Packages</strong><ul><li><span>Microsoft.AspNetCore.SignalR.Client, 8.0.0</span></li><li><span>Microsoft.DotNet.Interactive, 1.0.0-beta.24568.1</span></li></ul></div></div>"
      ]
     },
     "metadata": {},
     "output_type": "display_data"
    },
    {
     "name": "stdout",
     "output_type": "stream",
     "text": [
      "⚠️ Hub connected but methods may be unavailable\n",
      "✅ Connected to remote kernel\n"
     ]
    }
   ],
   "source": [
    "#r \"nuget: Microsoft.DotNet.Interactive, 1.0.0-beta.24568.1\"\n",
    "#r \"nuget: Microsoft.AspNetCore.SignalR.Client, 8.0.0\"\n",
    "\n",
    "using Microsoft.DotNet.Interactive;\n",
    "using Microsoft.AspNetCore.SignalR.Client;\n",
    "using Microsoft.DotNet.Interactive.Commands;\n",
    "using Microsoft.DotNet.Interactive.Events;\n",
    "\n",
    "// Setup state\n",
    "var kernel = Kernel.Root;\n",
    "var isConnected = false;\n",
    "\n",
    "// Setup SignalR connection with timeout\n",
    "var connection = new HubConnectionBuilder()\n",
    "    .WithUrl(\"https://localhost:65260/notebookhub\")\n",
    "    .WithAutomaticReconnect()\n",
    "    .Build();\n",
    "\n",
    "// Add blocking middleware with explicit error handling\n",
    "kernel.AddMiddleware(async (KernelCommand command, KernelInvocationContext context, KernelPipelineContinuation next) =>\n",
    "{\n",
    "    if (!isConnected)\n",
    "    {\n",
    "        context.DisplayStandardError(\"❌ Not connected to remote kernel\");\n",
    "        return;\n",
    "    }\n",
    "\n",
    "    if (command is SubmitCode submitCode)\n",
    "    {\n",
    "        try \n",
    "        {\n",
    "            var executionTask = connection.InvokeAsync<string>(\"ExecuteCode\", new {\n",
    "                Code = submitCode.Code,\n",
    "                KernelName = kernel.Name\n",
    "            });\n",
    "\n",
    "            // Add timeout to detect unimplemented methods\n",
    "            var timeoutTask = Task.Delay(2000);\n",
    "            var completedTask = await Task.WhenAny(executionTask, timeoutTask);\n",
    "            \n",
    "            if (completedTask == timeoutTask)\n",
    "            {\n",
    "                context.DisplayStandardError(\"❌ Remote execution timeout - Method may not be implemented\");\n",
    "                return;\n",
    "            }\n",
    "\n",
    "            var result = await executionTask;\n",
    "            if (string.IsNullOrEmpty(result))\n",
    "            {\n",
    "                context.DisplayStandardError(\"❌ No response from remote kernel\");\n",
    "            }\n",
    "        }\n",
    "        catch (Exception ex)\n",
    "        {\n",
    "            context.DisplayStandardError($\"❌ Remote execution failed: {ex.Message}\");\n",
    "        }\n",
    "        return; // Prevent local execution\n",
    "    }\n",
    "});\n",
    "\n",
    "// Connect with explicit error logging\n",
    "try\n",
    "{\n",
    "    await connection.StartAsync();\n",
    "    \n",
    "    // Test hub method existence\n",
    "    try {\n",
    "        await connection.InvokeAsync(\"Ping\");\n",
    "        Console.WriteLine(\"✅ Hub connection verified\");\n",
    "    }\n",
    "    catch {\n",
    "        Console.WriteLine(\"⚠️ Hub connected but methods may be unavailable\");\n",
    "    }\n",
    "    \n",
    "    await connection.SendAsync(\"RegisterNotebook\", kernel.Name);\n",
    "    isConnected = true;\n",
    "    Console.WriteLine(\"✅ Connected to remote kernel\");\n",
    "}\n",
    "catch (Exception ex)\n",
    "{\n",
    "    Console.WriteLine($\"❌ Connection failed: {ex.Message}\");\n",
    "    isConnected = false;\n",
    "}"
   ]
  },
  {
   "cell_type": "code",
   "execution_count": null,
   "metadata": {},
   "outputs": [
    {
     "name": "stderr",
     "output_type": "stream",
     "text": [
      "❌ Remote execution failed: Failed to invoke 'ExecuteCode' due to an error on the server. HubException: Method does not exist."
     ]
    }
   ],
   "source": [
    "1+1"
   ]
  },
  {
   "cell_type": "code",
   "execution_count": null,
   "metadata": {},
   "outputs": [
    {
     "data": {
      "text/html": [
       "<div><div></div><div></div><div><strong>Installed Packages</strong><ul><li><span>Microsoft.DotNet.Interactive, 1.0.0-beta.24568.1</span></li></ul></div></div>"
      ]
     },
     "metadata": {},
     "output_type": "display_data"
    },
    {
     "name": "stdout",
     "output_type": "stream",
     "text": [
      "Executing code: Console.WriteLine(\"Test execution\");\n",
      "Test execution\n",
      "Command succeeded: SubmitCode: #r \"nuget: Microsoft.DotNet.Interactive, 1.0.0-bet ...\n"
     ]
    }
   ],
   "source": []
  },
  {
   "cell_type": "code",
   "execution_count": null,
   "metadata": {},
   "outputs": [],
   "source": [
    "1+1"
   ]
  },
  {
   "cell_type": "code",
   "execution_count": null,
   "metadata": {},
   "outputs": [],
   "source": []
  }
 ],
 "metadata": {
  "kernelspec": {
   "display_name": ".NET (C#)",
   "language": "C#",
   "name": ".net-csharp"
  },
  "polyglot_notebook": {
   "kernelInfo": {
    "defaultKernelName": "csharp",
    "items": [
     {
      "aliases": [],
      "languageName": "csharp",
      "name": "csharp"
     }
    ]
   }
  }
 },
 "nbformat": 4,
 "nbformat_minor": 2
}
